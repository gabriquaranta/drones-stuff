{
  "nbformat": 4,
  "nbformat_minor": 0,
  "metadata": {
    "colab": {
      "provenance": [],
      "gpuType": "T4",
      "authorship_tag": "ABX9TyPYqLNYpmNwBsOvKzxQAhov",
      "include_colab_link": true
    },
    "kernelspec": {
      "name": "python3",
      "display_name": "Python 3"
    },
    "language_info": {
      "name": "python"
    },
    "accelerator": "GPU"
  },
  "cells": [
    {
      "cell_type": "markdown",
      "metadata": {
        "id": "view-in-github",
        "colab_type": "text"
      },
      "source": [
        "<a href=\"https://colab.research.google.com/github/gabriquaranta/drones-stuff/blob/main/yolo5_torch_hub_test.ipynb\" target=\"_parent\"><img src=\"https://colab.research.google.com/assets/colab-badge.svg\" alt=\"Open In Colab\"/></a>"
      ]
    },
    {
      "cell_type": "code",
      "execution_count": 1,
      "metadata": {
        "id": "bE864OztnEbC",
        "colab": {
          "base_uri": "https://localhost:8080/"
        },
        "collapsed": true,
        "outputId": "015e28e4-41ef-4f38-d831-17e4ded0ef73"
      },
      "outputs": [
        {
          "output_type": "stream",
          "name": "stdout",
          "text": [
            "Dataset URL: https://www.kaggle.com/datasets/dasmehdixtr/drone-dataset-uav\n",
            "License(s): copyright-authors\n",
            "Downloading drone-dataset-uav.zip to /content\n",
            "100% 716M/716M [00:08<00:00, 88.6MB/s]\n",
            "100% 716M/716M [00:08<00:00, 84.8MB/s]\n"
          ]
        }
      ],
      "source": [
        "!kaggle datasets download dasmehdixtr/drone-dataset-uav\n",
        "\n",
        "!mkdir ./datasets\n",
        "!mkdir ./datasets/train\n",
        "!mkdir ./datasets/val\n",
        "!mkdir ./datasets/test\n",
        "\n",
        "!unzip -q drone-dataset-uav.zip\n",
        "!rm -rf ./dataset_xml_format/"
      ]
    },
    {
      "cell_type": "code",
      "source": [
        "import os\n",
        "import random"
      ],
      "metadata": {
        "id": "ghvY49i1R7HL"
      },
      "execution_count": 3,
      "outputs": []
    },
    {
      "cell_type": "code",
      "source": [
        "dirname='./drone_dataset_yolo/dataset_txt'\n",
        "\n",
        "#count txt files in drone_dataset_yoy/dataset_txt\n",
        "filenames = [f[:-4] for f in os.listdir(dirname) if f.endswith('.txt')]\n",
        "n_pics=len(filenames)\n",
        "print(n_pics)\n",
        "\n",
        "ids=[i for i in range(n_pics)]\n",
        "random.shuffle(ids)\n",
        "#print(ids)\n",
        "\n",
        "trainratio=0.8\n",
        "valratio=0.1\n",
        "testratio=0.1\n",
        "\n",
        "train_ids=ids[:int(n_pics*trainratio)]\n",
        "val_ids=ids[int(n_pics*trainratio):int(n_pics*(trainratio+valratio))]\n",
        "test_ids=ids[int(n_pics*(trainratio+valratio)):]\n",
        "\n",
        "print(len(train_ids), len(val_ids), len(test_ids))\n",
        "\n",
        "# cp images to corresponding train or test folders\n",
        "for i in train_ids:\n",
        "  try:\n",
        "    !cp ./drone_dataset_yolo/dataset_txt/{filenames[i]}.txt ./datasets/train/{filenames[i]}.txt\n",
        "    !cp ./drone_dataset_yolo/dataset_txt/{filenames[i]}.jpg ./datasets/train/{filenames[i]}.jpg\n",
        "  except:\n",
        "    print(filenames[i])\n",
        "    continue\n",
        "\n",
        "for i in val_ids:\n",
        "  try:\n",
        "    !cp ./drone_dataset_yolo/dataset_txt/{filenames[i]}.txt ./datasets/val/{filenames[i]}.txt\n",
        "    !cp ./drone_dataset_yolo/dataset_txt/{filenames[i]}.jpg ./datasets/val/{filenames[i]}.jpg\n",
        "  except:\n",
        "    print(filenames[i])\n",
        "    continue\n",
        "\n",
        "for i in test_ids:\n",
        "  try:\n",
        "    !cp ./drone_dataset_yolo/dataset_txt/{filenames[i]}.txt ./datasets/test/{filenames[i]}.txt\n",
        "    !cp ./drone_dataset_yolo/dataset_txt/{filenames[i]}.jpg ./datasets/test/{filenames[i]}.jpg\n",
        "  except:\n",
        "    print(filenames[i])\n",
        "    continue"
      ],
      "metadata": {
        "colab": {
          "base_uri": "https://localhost:8080/"
        },
        "id": "KRVm5GkFMRKg",
        "outputId": "ceefe150-a64f-4bee-c99d-5e9d628e86d8"
      },
      "execution_count": 2,
      "outputs": [
        {
          "output_type": "stream",
          "name": "stdout",
          "text": [
            "1360\n",
            "1088 136 136\n",
            "cp: cannot stat './drone_dataset_yolo/dataset_txt/classes.jpg': No such file or directory\n"
          ]
        }
      ]
    },
    {
      "cell_type": "code",
      "source": [
        "import torch\n",
        "\n",
        "model = torch.hub.load('ultralytics/yolov5', 'yolov5s', pretrained=True)"
      ],
      "metadata": {
        "colab": {
          "base_uri": "https://localhost:8080/"
        },
        "id": "SkMK5gt_OHq7",
        "outputId": "07ab7207-62d1-411f-cb3e-2a4feeabdd39"
      },
      "execution_count": 4,
      "outputs": [
        {
          "output_type": "stream",
          "name": "stderr",
          "text": [
            "Using cache found in /root/.cache/torch/hub/ultralytics_yolov5_master\n",
            "YOLOv5 🚀 2025-2-1 Python-3.11.11 torch-2.5.1+cu124 CUDA:0 (Tesla T4, 15095MiB)\n",
            "\n",
            "Fusing layers... \n",
            "YOLOv5s summary: 213 layers, 7225885 parameters, 0 gradients, 16.4 GFLOPs\n",
            "Adding AutoShape... \n"
          ]
        }
      ]
    },
    {
      "cell_type": "code",
      "source": [
        "path='./datasets/test'\n",
        "imgs = [os.path.join(path,i) for i in os.listdir(path) if i.endswith('.jpg')]\n",
        "print(len(imgs))\n",
        "results = model(imgs)\n",
        "results.print()"
      ],
      "metadata": {
        "colab": {
          "base_uri": "https://localhost:8080/"
        },
        "id": "EIS50ruiRwHQ",
        "outputId": "093dc839-b25f-4d83-9c5d-848a231d04b8"
      },
      "execution_count": 12,
      "outputs": [
        {
          "output_type": "stream",
          "name": "stdout",
          "text": [
            "136\n"
          ]
        },
        {
          "output_type": "stream",
          "name": "stderr",
          "text": [
            "/root/.cache/torch/hub/ultralytics_yolov5_master/models/common.py:894: FutureWarning: `torch.cuda.amp.autocast(args...)` is deprecated. Please use `torch.amp.autocast('cuda', args...)` instead.\n",
            "  with amp.autocast(autocast):\n",
            "image 1/136: 183x275 1 airplane\n",
            "image 2/136: 424x636 1 airplane\n",
            "image 3/136: 400x710 1 airplane\n",
            "image 4/136: 800x1200 1 airplane\n",
            "image 5/136: 720x1280 1 airplane\n",
            "image 6/136: 720x1280 (no detections)\n",
            "image 7/136: 720x1280 1 airplane\n",
            "image 8/136: 800x800 (no detections)\n",
            "image 9/136: 810x1440 1 bicycle\n",
            "image 10/136: 418x740 1 motorcycle\n",
            "image 11/136: 720x1280 1 airplane\n",
            "image 12/136: 456x810 1 airplane\n",
            "image 13/136: 643x1060 (no detections)\n",
            "image 14/136: 355x642 1 airplane\n",
            "image 15/136: 390x652 1 airplane\n",
            "image 16/136: 720x1280 1 car, 1 airplane\n",
            "image 17/136: 312x500 1 airplane\n",
            "image 18/136: 720x1280 1 airplane\n",
            "image 19/136: 1088x1920 1 person\n",
            "image 20/136: 550x900 4 airplanes\n",
            "image 21/136: 720x1280 1 person\n",
            "image 22/136: 3750x5625 1 airplane\n",
            "image 23/136: 361x525 1 airplane, 1 traffic light\n",
            "image 24/136: 500x500 1 motorcycle\n",
            "image 25/136: 1060x2121 (no detections)\n",
            "image 26/136: 720x1280 1 person\n",
            "image 27/136: 373x650 1 airplane\n",
            "image 28/136: 251x328 1 airplane\n",
            "image 29/136: 200x510 1 airplane\n",
            "image 30/136: 800x800 (no detections)\n",
            "image 31/136: 500x500 2 airplanes, 2 scissorss\n",
            "image 32/136: 1102x1958 1 car, 1 airplane, 1 traffic light\n",
            "image 33/136: 425x299 (no detections)\n",
            "image 34/136: 720x1280 1 person, 1 sink\n",
            "image 35/136: 720x1280 1 airplane\n",
            "image 36/136: 720x1280 1 person, 1 remote\n",
            "image 37/136: 800x800 1 airplane\n",
            "image 38/136: 1080x1920 1 cell phone\n",
            "image 39/136: 665x665 1 airplane\n",
            "image 40/136: 300x300 (no detections)\n",
            "image 41/136: 332x330 1 motorcycle\n",
            "image 42/136: 360x640 1 airplane\n",
            "image 43/136: 720x1280 1 person, 1 chair\n",
            "image 44/136: 438x819 1 person, 1 airplane\n",
            "image 45/136: 500x500 (no detections)\n",
            "image 46/136: 366x750 1 sports ball\n",
            "image 47/136: 720x1280 (no detections)\n",
            "image 48/136: 720x1280 (no detections)\n",
            "image 49/136: 720x1280 1 airplane\n",
            "image 50/136: 1037x1383 1 traffic light\n",
            "image 51/136: 271x300 1 person, 2 cars, 1 umbrella\n",
            "image 52/136: 1000x1000 1 airplane\n",
            "image 53/136: 1269x1932 1 airplane\n",
            "image 54/136: 443x886 (no detections)\n",
            "image 55/136: 720x1280 1 airplane\n",
            "image 56/136: 720x1280 2 persons, 1 bird, 1 remote, 1 cell phone\n",
            "image 57/136: 512x1024 1 airplane\n",
            "image 58/136: 360x640 1 person, 1 bicycle, 1 skis\n",
            "image 59/136: 720x1280 1 person\n",
            "image 60/136: 360x360 (no detections)\n",
            "image 61/136: 513x770 1 airplane\n",
            "image 62/136: 1088x1920 1 person\n",
            "image 63/136: 595x893 1 bottle\n",
            "image 64/136: 1333x2000 1 airplane\n",
            "image 65/136: 311x560 2 persons, 1 car, 1 airplane\n",
            "image 66/136: 1088x1920 3 persons, 1 dining table, 1 tv\n",
            "image 67/136: 930x1240 1 airplane\n",
            "image 68/136: 599x987 (no detections)\n",
            "image 69/136: 183x275 1 airplane\n",
            "image 70/136: 824x1200 2 persons, 1 airplane\n",
            "image 71/136: 720x1280 (no detections)\n",
            "image 72/136: 768x1024 5 persons, 1 airplane, 1 kite\n",
            "image 73/136: 720x1280 1 person\n",
            "image 74/136: 717x1000 (no detections)\n",
            "image 75/136: 932x1976 1 airplane\n",
            "image 76/136: 500x500 1 car\n",
            "image 77/136: 325x500 (no detections)\n",
            "image 78/136: 1800x3200 (no detections)\n",
            "image 79/136: 230x410 1 bicycle, 1 airplane\n",
            "image 80/136: 592x768 (no detections)\n",
            "image 81/136: 1088x1920 5 persons, 1 cup, 3 chairs, 2 tvs, 1 laptop, 1 keyboard\n",
            "image 82/136: 400x400 (no detections)\n",
            "image 83/136: 720x1280 (no detections)\n",
            "image 84/136: 400x600 (no detections)\n",
            "image 85/136: 392x700 1 airplane\n",
            "image 86/136: 720x1280 1 person, 1 airplane, 1 bottle, 1 potted plant\n",
            "image 87/136: 178x178 (no detections)\n",
            "image 88/136: 600x600 1 airplane\n",
            "image 89/136: 750x1000 1 motorcycle, 1 airplane\n",
            "image 90/136: 720x1280 2 persons\n",
            "image 91/136: 236x236 (no detections)\n",
            "image 92/136: 600x600 1 airplane\n",
            "image 93/136: 720x1280 1 bird\n",
            "image 94/136: 347x700 (no detections)\n",
            "image 95/136: 480x720 (no detections)\n",
            "image 96/136: 720x1280 1 airplane\n",
            "image 97/136: 1088x1920 2 persons, 1 cup, 2 chairs, 1 dining table, 1 laptop\n",
            "image 98/136: 300x400 17 airplanes\n",
            "image 99/136: 427x640 1 person, 1 suitcase\n",
            "image 100/136: 720x1280 1 person, 1 car, 2 airplanes\n",
            "image 101/136: 1200x1600 1 scissors, 1 toothbrush\n",
            "image 102/136: 720x1280 1 airplane\n",
            "image 103/136: 1000x1000 1 airplane\n",
            "image 104/136: 1500x1500 2 airplanes\n",
            "image 105/136: 458x810 1 airplane\n",
            "image 106/136: 250x250 1 airplane, 1 traffic light\n",
            "image 107/136: 450x450 1 airplane\n",
            "image 108/136: 248x500 1 motorcycle\n",
            "image 109/136: 900x900 1 person, 1 airplane\n",
            "image 110/136: 516x706 1 spoon, 2 scissorss\n",
            "image 111/136: 533x550 1 airplane\n",
            "image 112/136: 168x299 1 motorcycle\n",
            "image 113/136: 1152x1536 1 airplane, 1 bottle\n",
            "image 114/136: 720x1280 1 traffic light\n",
            "image 115/136: 1000x1500 (no detections)\n",
            "image 116/136: 378x500 (no detections)\n",
            "image 117/136: 720x1280 1 person\n",
            "image 118/136: 720x1280 1 person\n",
            "image 119/136: 220x390 1 airplane\n",
            "image 120/136: 720x1280 1 person\n",
            "image 121/136: 632x1400 (no detections)\n",
            "image 122/136: 225x225 1 airplane\n",
            "image 123/136: 801x801 1 airplane\n",
            "image 124/136: 413x280 (no detections)\n",
            "image 125/136: 720x1280 1 person, 1 sink\n",
            "image 126/136: 200x300 1 airplane\n",
            "image 127/136: 2000x2000 1 airplane\n",
            "image 128/136: 1430x1300 1 scissors\n",
            "image 129/136: 510x680 1 airplane, 1 potted plant\n",
            "image 130/136: 720x1280 1 person\n",
            "image 131/136: 472x472 1 airplane\n",
            "image 132/136: 534x950 1 person, 1 airplane\n",
            "image 133/136: 520x1200 1 person\n",
            "image 134/136: 720x1280 1 airplane\n",
            "image 135/136: 460x1920 3 persons, 1 airplane\n",
            "image 136/136: 720x1280 1 person\n",
            "Speed: 22.1ms pre-process, 0.7ms inference, 7.4ms NMS per image at shape (136, 3, 640, 640)\n"
          ]
        }
      ]
    }
  ]
}